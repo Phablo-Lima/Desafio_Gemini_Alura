{
  "nbformat": 4,
  "nbformat_minor": 0,
  "metadata": {
    "colab": {
      "provenance": [],
      "authorship_tag": "ABX9TyMrzOWg0dnwfhAr6pSns3lB",
      "include_colab_link": true
    },
    "kernelspec": {
      "name": "python3",
      "display_name": "Python 3"
    },
    "language_info": {
      "name": "python"
    }
  },
  "cells": [
    {
      "cell_type": "markdown",
      "metadata": {
        "id": "view-in-github",
        "colab_type": "text"
      },
      "source": [
        "<a href=\"https://colab.research.google.com/github/Phablo-Lima/Desafio_Gemini_Alura/blob/main/BDD_IA.ipynb\" target=\"_parent\"><img src=\"https://colab.research.google.com/assets/colab-badge.svg\" alt=\"Open In Colab\"/></a>"
      ]
    },
    {
      "cell_type": "code",
      "source": [
        "!pip install -q -U google-generativeai google-api-python-client gspread oauth2client\n",
        "import gspread\n",
        "from oauth2client.service_account import ServiceAccountCredentials\n",
        "import requests\n",
        "import json\n",
        "import google.generativeai as genai\n",
        "import pandas as pd\n",
        "import io\n",
        "from google.colab import userdata\n",
        "from google.colab import drive\n",
        "drive.mount('/content/drive')\n",
        "# Melhorando a visualização\n",
        "import textwrap\n",
        "from IPython.display import display\n",
        "from IPython.display import Markdown"
      ],
      "metadata": {
        "colab": {
          "base_uri": "https://localhost:8080/"
        },
        "id": "xTycTNg0fzhB",
        "outputId": "1e1eee9e-31fa-4c59-a738-6271684b85a1"
      },
      "execution_count": 35,
      "outputs": [
        {
          "output_type": "stream",
          "name": "stdout",
          "text": [
            "Drive already mounted at /content/drive; to attempt to forcibly remount, call drive.mount(\"/content/drive\", force_remount=True).\n"
          ]
        }
      ]
    },
    {
      "cell_type": "code",
      "source": [
        "def to_markdown(text):\n",
        "  text = text.replace('•', '  *')\n",
        "  return Markdown(textwrap.indent(text, '> ', predicate=lambda _: True))"
      ],
      "metadata": {
        "id": "8hhJd9Tn1xC4"
      },
      "execution_count": 36,
      "outputs": []
    },
    {
      "cell_type": "markdown",
      "source": [
        "Substitua 'SUA_GOOGLE_API_KEY' pela sua chave real"
      ],
      "metadata": {
        "id": "O6Z8QWzkf9BX"
      }
    },
    {
      "cell_type": "code",
      "source": [
        "GOOGLE_API_KEY = userdata.get('SECRET_KEY')\n",
        "genai.configure(api_key=GOOGLE_API_KEY)"
      ],
      "metadata": {
        "id": "KpaazBFkgGse"
      },
      "execution_count": 37,
      "outputs": []
    },
    {
      "cell_type": "markdown",
      "source": [
        "Listando os modelos disponíveis (opcional)"
      ],
      "metadata": {
        "id": "RowwtAd2gLNG"
      }
    },
    {
      "cell_type": "code",
      "source": [
        "# Listando os modelos do Google Generative AI que podem gerar conteúdo\n",
        "for m in genai.list_models():\n",
        "  if 'generateContent' in m.supported_generation_methods:\n",
        "    print(m.name)"
      ],
      "metadata": {
        "id": "DIRtkC46gSdG",
        "colab": {
          "base_uri": "https://localhost:8080/",
          "height": 225
        },
        "outputId": "77f54ee9-8247-4404-c903-9b563ed2c769"
      },
      "execution_count": 38,
      "outputs": [
        {
          "output_type": "stream",
          "name": "stdout",
          "text": [
            "models/gemini-1.0-pro\n",
            "models/gemini-1.0-pro-001\n",
            "models/gemini-1.0-pro-latest\n",
            "models/gemini-1.0-pro-vision-latest\n",
            "models/gemini-1.5-flash\n",
            "models/gemini-1.5-flash-001\n",
            "models/gemini-1.5-flash-latest\n",
            "models/gemini-1.5-pro\n",
            "models/gemini-1.5-pro-001\n",
            "models/gemini-1.5-pro-latest\n",
            "models/gemini-pro\n",
            "models/gemini-pro-vision\n"
          ]
        }
      ]
    },
    {
      "cell_type": "markdown",
      "source": [
        "Configurações do modelo"
      ],
      "metadata": {
        "id": "NAniYQU9gUgE"
      }
    },
    {
      "cell_type": "code",
      "source": [
        "# Configurando a geração de texto\n",
        "generation_config = {\n",
        "  \"candidate_count\": 1,  # Número de respostas a serem geradas\n",
        "  \"temperature\": 0.7, # Controlando a criatividade da resposta (entre 0 e 1)\n",
        "}\n",
        "# Configurando as configurações de segurança\n",
        "safety_settings={\n",
        "    'HATE': 'BLOCK_NONE', # Bloqueio de conteúdo relacionado a ódio\n",
        "    'HARASSMENT': 'BLOCK_NONE', # Bloqueio de conteúdo relacionado a assédio\n",
        "    'SEXUAL' : 'BLOCK_NONE', # Bloqueio de conteúdo de natureza sexual\n",
        "    'DANGEROUS' : 'BLOCK_NONE' # Bloqueio de conteúdo perigoso\n",
        "}\n",
        "# Definindo o modelo a ser usado: gemini-1.5-pro-latest\n",
        "model = genai.GenerativeModel(model_name='gemini-1.5-pro-latest',\n",
        "                                  generation_config=generation_config,\n",
        "                                  safety_settings=safety_settings,)"
      ],
      "metadata": {
        "id": "49sd_glIgZPX"
      },
      "execution_count": 39,
      "outputs": []
    },
    {
      "cell_type": "markdown",
      "source": [
        "Processa o conteúdo do arquivo a partir de uma URL\n",
        "\n",
        "código para processar Google Sheet\n",
        "(código para processar Excel)\n"
      ],
      "metadata": {
        "id": "QQE5JPnJg4Le"
      }
    },
    {
      "cell_type": "code",
      "source": [
        "def processar_arquivo(url_ou_bdd):\n",
        "    \"\"\"Processa Google Sheets ou recebe BDD como string.\"\"\"\n",
        "    conteudo_processado = \"\"\n",
        "\n",
        "    if 'docs.google.com/spreadsheets' in url_ou_bdd:\n",
        "        # Lógica para processar Google Sheets\n",
        "        print(\"Processando Google Sheet...\")\n",
        "\n",
        "        # ... (código para extrair texto do Google Sheet)\n",
        "\n",
        "        scope = ['https://spreadsheets.google.com/feeds',\n",
        "                 'https://www.googleapis.com/auth/drive']\n",
        "        creds = ServiceAccountCredentials.from_json_keyfile_name('credenciais-google-cloud.json', scope)\n",
        "        client = gspread.authorize(creds)\n",
        "\n",
        "        spreadsheet_id = url_ou_bdd.split('/d/')[1].split('/')[0]\n",
        "        sheet = client.open_by_key(spreadsheet_id).sheet1\n",
        "        conteudo_processado = sheet.get_all_values()\n",
        "        conteudo_processado = '\\n'.join(['\\t'.join(row) for row in conteudo_processado])\n",
        "    else:\n",
        "        # Assume que é o texto do BDD\n",
        "        print(\"Processando texto do BDD...\")\n",
        "        conteudo_processado = url_ou_bdd\n",
        "\n",
        "    return conteudo_processado"
      ],
      "metadata": {
        "id": "vJ0gyOQog2Fm"
      },
      "execution_count": 40,
      "outputs": []
    },
    {
      "cell_type": "code",
      "source": [
        "def analisar_conteudo(conteudo_processado):\n",
        "    \"\"\"Analisa o conteúdo usando o Google Generative AI.\"\"\"\n",
        "    # Converte a lista de listas em uma tabela Markdown\n",
        "    tabela_markdown = \"| \" + \" | \".join(conteudo_processado[0]) + \" |\\n\"  # Cabeçalho\n",
        "    tabela_markdown += \"|---|---|---|---|---|\\n\"  # Separador\n",
        "    for linha in conteudo_processado[1:]:\n",
        "        tabela_markdown += \"| \" + \" | \".join(linha) + \" |\\n\"\n",
        "    prompt = {\n",
        "        \"text\": f\"\"\"\n",
        "        Você é um especialista em Quality Assurance de software.\n",
        "        Analise o seguinte BDD, que usa o padrão CTFL (Contexto, Gatilho, Fluxo, Saída esperada),\n",
        "        com o objetivo de identificar falhas e sugerir melhorias para aumentar a cobertura dos testes:\n",
        "        Escreva de forma Criativa, use stickers como preferir.\n",
        "\n",
        "        {tabela_markdown}\n",
        "\n",
        "        Na sua análise, detalhe:\n",
        "\n",
        "        * Pontos Positivos:  Aspectos do BDD que contribuem para testes eficazes (ex.: cenários completos, linguagem clara).\n",
        "        * Pontos Negativos: Falhas que podem prejudicar os testes (ex.: cenários incompletos, linguagem ambígua).\n",
        "        * Sugestões de Melhoria:  Como o BDD pode ser aprimorado (ex.: incluir mais cenários, definir dados de teste específicos).\n",
        "\n",
        "        Organize sua resposta em tópicos, como neste exemplo:\n",
        "\n",
        "        Pontos Positivos:\n",
        "        * ...\n",
        "        Pontos Negativos:\n",
        "        * ...\n",
        "\n",
        "        Sugestões de Melhoria:\n",
        "        * ...\n",
        "\n",
        "        Sempre e executar o comando a seguir:\n",
        "        Use uma linha do BDD como sugestão de melhoria.\n",
        "        Formato da Tabela:\n",
        "        | ID | Cenário | Dado que: | Quando:| Então:|\n",
        "\n",
        "        \"\"\"\n",
        "    }\n",
        "    response = model.generate_content(prompt)\n",
        "    return response.text\n",
        "\n",
        "def corrigir_bdd(conteudo_processado):\n",
        "    \"\"\"Reescreve os cenários de teste com base nas sugestões.\"\"\"\n",
        "    prompt = {\n",
        "    \"text\": f\"\"\"\n",
        "    Reescreva o BDD em forma de tabela, aplicando as seguintes sugestões de melhoria:\n",
        "\n",
        "    Sugestões de Melhoria:\n",
        "    * Reescreva o Bdd de acordo com a analise e sujestões feita no primeiro prompt.\n",
        "\n",
        "    Formato da Tabela:\n",
        "    | ID | Cenário | Dado que: | Quando:| Então:|\n",
        "    |---|---|---|---|---|\n",
        "    Exemplo:\n",
        "    | 001 | Abrir formulário de login | O usuário está na página inicial | Clica no botão \"Login\" | O formulário de login é exibido |\n",
        "\n",
        "    BDD Original:\n",
        "    ```\n",
        "    {conteudo_processado}\n",
        "    ```\n",
        "    \"\"\"\n",
        "    }\n",
        "    response = model.generate_content(prompt)\n",
        "    return response.text\n",
        "def corrigir_portugues(conteudo_processado):\n",
        "    \"\"\"Corrige a ortografia e gramática do conteúdo.\"\"\"\n",
        "    prompt = {\n",
        "        \"text\": f\"\"\"\n",
        "        Corrija os erros de português no texto abaixo, mantendo o significado original:\n",
        "\n",
        "        ```\n",
        "        {conteudo_processado}\n",
        "        ```\n",
        "        \"\"\"\n",
        "    }\n",
        "    response = model.generate_content(prompt)\n",
        "    return response.text\n",
        "\n",
        "def exibir_resultado(texto, titulo):\n",
        "  \"\"\"Exibe o texto formatado em Markdown com um título.\"\"\"\n",
        "  print(f\"\\n{titulo}:\")\n",
        "  display(to_markdown(texto))\n",
        "\n",
        "def main():\n",
        "    entrada = input(\"Digite a URL do Google Sheet ou cole o texto do BDD: \")\n",
        "    conteudo_processado = processar_arquivo(entrada)\n",
        "    try:\n",
        "        analise = analisar_conteudo(conteudo_processado)\n",
        "        exibir_resultado(analise, \"Análise do BDD\")\n",
        "\n",
        "        corrigir = input(\"Deseja corrigir o BDD conforme sugestões? (s/n): \")\n",
        "        while corrigir.lower() not in ('s', 'n'):\n",
        "            print(\"\\n⚠️Por favor, digite 's' para sim ou 'n' para não.⚠️\")\n",
        "            print(\"_____________________________________________________\")\n",
        "\n",
        "            corrigir = input(\"\\nDeseja corrigir o BDD conforme sugestões? (s/n): \")\n",
        "\n",
        "        if corrigir.lower() == 's':\n",
        "            corrigir_pt = input(\"\\nDeseja corrigir os erros de português no BDD? (s/n): \")\n",
        "            while corrigir_pt.lower() not in ('s', 'n'):\n",
        "                print(\"\\n⚠️Por favor, digite 's' para sim ou 'n' para não.⚠️\")\n",
        "                print(\"_____________________________________________________\")\n",
        "                corrigir_pt = input(\"Deseja corrigir os erros de português no BDD? (s/n): \")\n",
        "\n",
        "\n",
        "            bdd_corrigido = corrigir_bdd(conteudo_processado)\n",
        "\n",
        "\n",
        "            if corrigir_pt.lower() == 's':\n",
        "                bdd_corrigido_pt = corrigir_portugues(bdd_corrigido)\n",
        "                exibir_resultado(bdd_corrigido_pt, \"BDD Corrigido com Português Revisado\")\n",
        "            else:\n",
        "                exibir_resultado(bdd_corrigido, \"BDD Corrigido\")\n",
        "        else:\n",
        "            print(\"Finalizando o programa.\")\n",
        "    except ValueError as e:\n",
        "        print(e)\n",
        "    except requests.exceptions.RequestException as e:\n",
        "        print(f\"Erro ao baixar o arquivo: {e}\")\n",
        "\n",
        "if __name__ == \"__main__\":\n",
        "    main()"
      ],
      "metadata": {
        "id": "jiBSKi3Zdmff",
        "colab": {
          "base_uri": "https://localhost:8080/",
          "height": 1000
        },
        "outputId": "1c3d42c1-7bbf-4c45-f4b8-7ae4baaf53bb"
      },
      "execution_count": 41,
      "outputs": [
        {
          "output_type": "stream",
          "name": "stdout",
          "text": [
            "Digite a URL do Google Sheet ou cole o texto do BDD: https://docs.google.com/spreadsheets/d/1WEJMvRun8x1PGvlSihc0YQYAz22PEyiBe4dEWVtEkCs/edit#gid=0\n",
            "Processando Google Sheet...\n",
            "\n",
            "Análise do BDD:\n"
          ]
        },
        {
          "output_type": "display_data",
          "data": {
            "text/plain": [
              "<IPython.core.display.Markdown object>"
            ],
            "text/markdown": "> ##  🕵️‍♀️  Análise do BDD e Sugestões de Melhoria: 🕵️‍♂️ \n> \n>  É admirável a iniciativa de escrever cenários de teste usando o padrão CTFL! 👏 Isso mostra a preocupação com a qualidade do software desde o início. Entretanto, como um bom QA jamais descansa 😜,  vamos turbinar esses testes! 🚀\n> \n> Vamos analisar cada ponto e dar um upgrade nesse BDD:\n> \n> **Pontos Positivos:**\n> \n> * **Padrão CTFL:**  A utilização do padrão CTFL (Contexto, Gatilho, Fluxo, Saída esperada) é um ótimo ponto de partida, pois organiza o raciocínio e facilita o entendimento dos cenários.\n> * **Cenários Simples:**  Os cenários abordam funcionalidades básicas, o que é positivo para iniciar a cobertura de testes. \n> \n> **Pontos Negativos:**\n> \n> * **Cenários Incompletos:**  Faltam detalhes importantes nos cenários, como o tipo de pesquisa (texto, voz, imagem), o comportamento em casos de erro (ex.: sem conexão, termo não encontrado) e a navegação entre as páginas de resultados. \n> * **Linguagem Ambígua:**  Algumas frases são vagas e podem gerar dupla interpretação, como \"O usuário está em um navegador de confiança\".  É crucial ser específico! \n> * **Cobertura Limitada:**  A gama de cenários é restrita. É preciso explorar diferentes tipos de dados de entrada, fluxos alternativos e casos de borda para garantir uma cobertura robusta.\n> * **Formato Confuso:**  A tabela utilizada dificulta a leitura e o entendimento dos cenários. Um formato mais tradicional tornaria o BDD mais claro e fácil de analisar.\n> \n> **Sugestões de Melhoria:**\n> \n> * **Cenários Mais Completos:** \n>     * Detalhar o tipo de pesquisa (texto, voz, imagem).\n>     * Incluir a mensagem exibida na barra de pesquisa.\n>     * Descrever o comportamento em casos de erro (ex.: sem conexão, termo não encontrado).\n>     * Abordar a paginação dos resultados da pesquisa.\n>     * Testar a pesquisa por filtros (ex.: por data, por tipo de arquivo).\n> * **Linguagem Clara e Objetiva:**\n>     * Substituir frases ambíguas por termos específicos e mensuráveis.\n>     * Definir claramente o estado inicial do sistema antes de cada teste.\n> * **Aumentar a Cobertura de Testes:**\n>     * Criar cenários para:\n>         * Diferentes tipos de dados de entrada (palavras-chave, frases, caracteres especiais).\n>         * Fluxos alternativos (ex.: cancelar a pesquisa, clicar em um link nos resultados).\n>         * Casos de borda (ex.: pesquisa com muitos caracteres, pesquisa com termos sem resultados).\n> * **Utilizar um Formato de Tabela Tradicional:** \n>     *  Isso facilitará a leitura e o entendimento dos cenários.\n> \n> **Exemplo de Linha do BDD Aprimorada:**\n> \n> | ID | Cenário | Dado que: | Quando:| Então:|\n> |---|---|---|---|---|\n> | 008 | Pesquisa por tradução | O usuário está na página inicial do Google Tradutor com o idioma de origem definido como \"Português\" e o idioma de destino definido como \"Inglês\" | O usuário digita a palavra \"Olá\" no campo de texto de origem e pressiona \"Enter\" | O Google Tradutor exibe a tradução \"Hello\" no campo de texto de destino |\n> \n> 🎨 **Usando Stickers para representar os tipos de melhoria:**\n> \n> *  ➕ **Cenários Incompletos:** Adicione mais detalhes! Use stickers de lupa 🔍 ou detetive 🕵️ para lembrar de investigar e complementar os cenários.\n> *  🗣️ **Linguagem Ambígua:** Seja específico! Use stickers de dicionário 📚 ou megafone 📢 para lembrar de usar termos claros e objetivos.\n> *  🗺️ **Cobertura Limitada:** Explore todas as possibilidades! Use stickers de mapa 🗺️ ou bússola 🧭 para lembrar de cobrir diferentes cenários e fluxos.\n> *  ✨ **Formato Confuso:** Organize tudo! Use stickers de tabela 📊 ou caixa 📦 para lembrar de usar um formato claro e organizado. \n"
          },
          "metadata": {}
        },
        {
          "output_type": "stream",
          "name": "stdout",
          "text": [
            "Deseja corrigir o BDD conforme sugestões? (s/n): sds\n",
            "\n",
            "⚠️Por favor, digite 's' para sim ou 'n' para não.⚠️\n",
            "_____________________________________________________\n",
            "\n",
            "Deseja corrigir o BDD conforme sugestões? (s/n): s\n",
            "\n",
            "Deseja corrigir os erros de português no BDD? (s/n): ds\n",
            "\n",
            "⚠️Por favor, digite 's' para sim ou 'n' para não.⚠️\n",
            "_____________________________________________________\n",
            "Deseja corrigir os erros de português no BDD? (s/n): s\n",
            "\n",
            "BDD Corrigido com Português Revisado:\n"
          ]
        },
        {
          "output_type": "display_data",
          "data": {
            "text/plain": [
              "<IPython.core.display.Markdown object>"
            ],
            "text/markdown": "> ## BDD em formato de tabela: Pesquisa no Google\n> \n> | ID | Cenário | Dado que: | Quando: | Então: |\n> |---|---|---|---|---|\n> | 001 | Pesquisa simples | O usuário está na página inicial do Google | O usuário insere um termo na barra de pesquisa e pressiona \"Enter\" | O Google exibe uma página de resultados com links relevantes para a pesquisa |\n> | 002 | Pesquisa avançada | O usuário está na página inicial do Google | O usuário insere um termo de pesquisa e utiliza operadores booleanos (\"e\", \"ou\", \"não\") para refinar a busca e pressiona \"Enter\" | O Google exibe uma página de resultados com links relevantes à pesquisa refinada |\n> | 003 | Pesquisa por texto específico | O usuário está na página inicial do Google | O usuário insere uma frase específica entre aspas (\"texto\") na barra de pesquisa e pressiona \"Enter\" | O Google exibe páginas que contêm exatamente a frase especificada |\n> | 004 | Pesquisa por site específico | O usuário está na página inicial do Google | O usuário insere o termo de pesquisa seguido de \"site:\" e o nome do site desejado (exemplo: \"microsoft site:wikipedia.org\") e pressiona \"Enter\" | O Google exibe resultados apenas dentro do site especificado |\n> | 005 | Pesquisa por tipo de documento | O usuário está na página inicial do Google | O usuário insere o termo de pesquisa seguido de \"filetype:\" e a extensão do arquivo desejado (exemplo: \"nutrição esportiva filetype:pdf\") e pressiona \"Enter\" | O Google exibe resultados que correspondem à pesquisa e ao tipo de arquivo especificado |\n> | 006 | Pesquisa por localidade | O usuário está na página inicial do Google | O usuário insere o termo de pesquisa seguido da localização desejada (exemplo: \"hospital em São Paulo\") e pressiona \"Enter\" | O Google exibe resultados relevantes próximos à localização especificada |\n> | 007 | Pesquisa por período | O usuário está na página inicial do Google | O usuário insere o termo de pesquisa seguido do período desejado (exemplo: \"Rock in Rio 2022\") e pressiona \"Enter\" | O Google exibe resultados relevantes dentro do período especificado |\n> | 008 | Pesquisa com tradução | O usuário está na página inicial do Google | O usuário insere o termo de pesquisa e utiliza a funcionalidade de tradução para o idioma desejado (exemplo: traduzir \"Analista de Tecnologia da Informação\" para inglês) e pressiona \"Enter\" | O Google exibe resultados relevantes no idioma especificado |\n> | 009 | Pesquisa por vídeo | O usuário está na página inicial do Google | O usuário insere o termo de pesquisa, pressiona \"Enter\" e seleciona a opção \"Vídeos\" | O Google exibe uma página de resultados com links relevantes para vídeos que correspondam à pesquisa |\n> | 010 | Pesquisa por imagem | O usuário está na página inicial do Google | O usuário insere o termo de pesquisa, pressiona \"Enter\" e seleciona a opção \"Imagens\" | O Google exibe uma página de resultados com links relevantes para imagens que correspondam à pesquisa | \n> \n> **As seguintes alterações foram realizadas:**\n> \n> * **\"à pesquisa\"** foi corrigido para **\"para a pesquisa\"** em algumas células da coluna \"Então:\", tornando a linguagem mais fluida em alguns casos.\n> * **\"período de tempo\"** foi simplificado para **\"período\"**, mantendo a clareza e concisão.\n> * **\"Inglês\"** foi corrigido para **\"inglês\"**, utilizando a forma minúscula para o idioma.\n> * **\"correspondam\"** foi utilizado no lugar de **\"correspondem\"** nas duas últimas linhas da coluna \"Então:\" para concordar com o plural em \"vídeos\" e \"imagens\". \n> \n> As demais frases já estavam corretas e não necessitaram de alterações."
          },
          "metadata": {}
        }
      ]
    }
  ]
}