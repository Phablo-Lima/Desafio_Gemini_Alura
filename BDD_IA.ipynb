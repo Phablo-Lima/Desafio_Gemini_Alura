{
  "nbformat": 4,
  "nbformat_minor": 0,
  "metadata": {
    "colab": {
      "provenance": [],
      "authorship_tag": "ABX9TyOuMZCY/+4hT7gIh0v7QzNo",
      "include_colab_link": true
    },
    "kernelspec": {
      "name": "python3",
      "display_name": "Python 3"
    },
    "language_info": {
      "name": "python"
    }
  },
  "cells": [
    {
      "cell_type": "markdown",
      "metadata": {
        "id": "view-in-github",
        "colab_type": "text"
      },
      "source": [
        "<a href=\"https://colab.research.google.com/github/Phablo-Lima/Desafio_Gemini_Alura/blob/main/BDD_IA.ipynb\" target=\"_parent\"><img src=\"https://colab.research.google.com/assets/colab-badge.svg\" alt=\"Open In Colab\"/></a>"
      ]
    },
    {
      "cell_type": "code",
      "source": [
        "!pip install -q -U google-generativeai google-api-python-client gspread oauth2client\n",
        "import gspread\n",
        "from oauth2client.service_account import ServiceAccountCredentials\n",
        "import requests\n",
        "import json\n",
        "import google.generativeai as genai\n",
        "import pandas as pd\n",
        "import io\n",
        "from google.colab import userdata\n",
        "from google.colab import drive\n",
        "drive.mount('/content/drive')\n",
        "# Melhorando a visualização\n",
        "import textwrap\n",
        "from IPython.display import display\n",
        "from IPython.display import Markdown"
      ],
      "metadata": {
        "id": "xTycTNg0fzhB"
      },
      "execution_count": null,
      "outputs": []
    },
    {
      "cell_type": "code",
      "source": [
        "def to_markdown(text):\n",
        "  text = text.replace('•', '  *')\n",
        "  return Markdown(textwrap.indent(text, '> ', predicate=lambda _: True))"
      ],
      "metadata": {
        "id": "8hhJd9Tn1xC4"
      },
      "execution_count": 36,
      "outputs": []
    },
    {
      "cell_type": "code",
      "source": [
        "#Substitua 'SUA_GOOGLE_API_KEY' pela sua chave real\n",
        "GOOGLE_API_KEY = userdata.get('SECRET_KEY')\n",
        "genai.configure(api_key=GOOGLE_API_KEY)"
      ],
      "metadata": {
        "id": "KpaazBFkgGse"
      },
      "execution_count": 37,
      "outputs": []
    },
    {
      "cell_type": "code",
      "source": [
        "# Listando os modelos do Google Generative AI que podem gerar conteúdo\n",
        "for m in genai.list_models():\n",
        "  if 'generateContent' in m.supported_generation_methods:\n",
        "    print(m.name)"
      ],
      "metadata": {
        "id": "DIRtkC46gSdG"
      },
      "execution_count": null,
      "outputs": []
    },
    {
      "cell_type": "code",
      "source": [
        "# Configurando a geração de texto\n",
        "generation_config = {\n",
        "  \"candidate_count\": 1,  # Número de respostas a serem geradas\n",
        "  \"temperature\": 0.7, # Controlando a criatividade da resposta (entre 0 e 1)\n",
        "}\n",
        "# Configurando as configurações de segurança\n",
        "safety_settings={\n",
        "    'HATE': 'BLOCK_NONE', # Bloqueio de conteúdo relacionado a ódio\n",
        "    'HARASSMENT': 'BLOCK_NONE', # Bloqueio de conteúdo relacionado a assédio\n",
        "    'SEXUAL' : 'BLOCK_NONE', # Bloqueio de conteúdo de natureza sexual\n",
        "    'DANGEROUS' : 'BLOCK_NONE' # Bloqueio de conteúdo perigoso\n",
        "}\n",
        "# Definindo o modelo a ser usado: gemini-1.5-pro-latest\n",
        "model = genai.GenerativeModel(model_name='gemini-1.5-pro-latest',\n",
        "                                  generation_config=generation_config,\n",
        "                                  safety_settings=safety_settings,)"
      ],
      "metadata": {
        "id": "49sd_glIgZPX"
      },
      "execution_count": 39,
      "outputs": []
    },
    {
      "cell_type": "code",
      "source": [
        "#Processa o conteúdo do arquivo a partir de uma URL\n",
        "#código para processar Google Sheet (código para processar Excel)\n",
        "def processar_arquivo(url_ou_bdd):\n",
        "    \"\"\"Processa Google Sheets ou recebe BDD como string.\"\"\"\n",
        "    conteudo_processado = \"\"\n",
        "\n",
        "    if 'docs.google.com/spreadsheets' in url_ou_bdd:\n",
        "        # Lógica para processar Google Sheets\n",
        "        print(\"Processando Google Sheet...\")\n",
        "\n",
        "        # ... (código para extrair texto do Google Sheet)\n",
        "\n",
        "        scope = ['https://spreadsheets.google.com/feeds',\n",
        "                 'https://www.googleapis.com/auth/drive']\n",
        "        creds = ServiceAccountCredentials.from_json_keyfile_name('credenciais-google-cloud.json', scope)\n",
        "        client = gspread.authorize(creds)\n",
        "\n",
        "        spreadsheet_id = url_ou_bdd.split('/d/')[1].split('/')[0]\n",
        "        sheet = client.open_by_key(spreadsheet_id).sheet1\n",
        "        conteudo_processado = sheet.get_all_values()\n",
        "        conteudo_processado = '\\n'.join(['\\t'.join(row) for row in conteudo_processado])\n",
        "    else:\n",
        "        # Assume que é o texto do BDD\n",
        "        print(\"Processando texto do BDD...\")\n",
        "        conteudo_processado = url_ou_bdd\n",
        "\n",
        "    return conteudo_processado"
      ],
      "metadata": {
        "id": "vJ0gyOQog2Fm"
      },
      "execution_count": 40,
      "outputs": []
    },
    {
      "cell_type": "code",
      "source": [
        "def analisar_conteudo(conteudo_processado):\n",
        "    \"\"\"Analisa o conteúdo usando o Google Generative AI.\"\"\"\n",
        "    # Converte a lista de listas em uma tabela Markdown\n",
        "    tabela_markdown = \"| \" + \" | \".join(conteudo_processado[0]) + \" |\\n\"  # Cabeçalho\n",
        "    tabela_markdown += \"|---|---|---|---|---|\\n\"  # Separador\n",
        "    for linha in conteudo_processado[1:]:\n",
        "        tabela_markdown += \"| \" + \" | \".join(linha) + \" |\\n\"\n",
        "    prompt = {\n",
        "        \"text\": f\"\"\"\n",
        "        Você é um especialista em Quality Assurance de software.\n",
        "        Analise o seguinte BDD, que usa o padrão CTFL (Contexto, Gatilho, Fluxo, Saída esperada),\n",
        "        com o objetivo de identificar falhas e sugerir melhorias para aumentar a cobertura dos testes:\n",
        "        Escreva de forma Criativa, use stickers como preferir.\n",
        "\n",
        "        {tabela_markdown}\n",
        "\n",
        "        Na sua análise, detalhe:\n",
        "\n",
        "        * Pontos Positivos:  Aspectos do BDD que contribuem para testes eficazes (ex.: cenários completos, linguagem clara).\n",
        "        * Pontos Negativos: Falhas que podem prejudicar os testes (ex.: cenários incompletos, linguagem ambígua).\n",
        "        * Sugestões de Melhoria:  Como o BDD pode ser aprimorado (ex.: incluir mais cenários, definir dados de teste específicos).\n",
        "\n",
        "        Organize sua resposta em tópicos, como neste exemplo:\n",
        "\n",
        "        Pontos Positivos:\n",
        "        * ...\n",
        "        Pontos Negativos:\n",
        "        * ...\n",
        "\n",
        "        Sugestões de Melhoria:\n",
        "        * ...\n",
        "\n",
        "        Sempre e executar o comando a seguir:\n",
        "        Use uma linha do BDD como sugestão de melhoria.\n",
        "        Formato da Tabela:\n",
        "        | ID | Cenário | Dado que: | Quando:| Então:|\n",
        "\n",
        "        \"\"\"\n",
        "    }\n",
        "    response = model.generate_content(prompt)\n",
        "    return response.text\n",
        "\n",
        "def corrigir_bdd(conteudo_processado):\n",
        "    \"\"\"Reescreve os cenários de teste com base nas sugestões.\"\"\"\n",
        "    prompt = {\n",
        "    \"text\": f\"\"\"\n",
        "    Reescreva o BDD em forma de tabela, aplicando as seguintes sugestões de melhoria:\n",
        "\n",
        "    Sugestões de Melhoria:\n",
        "    * Reescreva o Bdd de acordo com a analise e sujestões feita no primeiro prompt.\n",
        "\n",
        "    Formato da Tabela:\n",
        "    | ID | Cenário | Dado que: | Quando:| Então:|\n",
        "    |---|---|---|---|---|\n",
        "    Exemplo:\n",
        "    | 001 | Abrir formulário de login | O usuário está na página inicial | Clica no botão \"Login\" | O formulário de login é exibido |\n",
        "\n",
        "    BDD Original:\n",
        "    ```\n",
        "    {conteudo_processado}\n",
        "    ```\n",
        "    \"\"\"\n",
        "    }\n",
        "    response = model.generate_content(prompt)\n",
        "    return response.text\n",
        "def corrigir_portugues(conteudo_processado):\n",
        "    \"\"\"Corrige a ortografia e gramática do conteúdo.\"\"\"\n",
        "    prompt = {\n",
        "        \"text\": f\"\"\"\n",
        "        Corrija os erros de português no texto abaixo, mantendo o significado original:\n",
        "\n",
        "        ```\n",
        "        {conteudo_processado}\n",
        "        ```\n",
        "        \"\"\"\n",
        "    }\n",
        "    response = model.generate_content(prompt)\n",
        "    return response.text\n",
        "\n",
        "def exibir_resultado(texto, titulo):\n",
        "  \"\"\"Exibe o texto formatado em Markdown com um título.\"\"\"\n",
        "  print(f\"\\n{titulo}:\")\n",
        "  display(to_markdown(texto))\n",
        "\n",
        "def main():\n",
        "    entrada = input(\"Digite a URL do Google Sheet ou cole o texto do BDD: \")\n",
        "    conteudo_processado = processar_arquivo(entrada)\n",
        "    try:\n",
        "        analise = analisar_conteudo(conteudo_processado)\n",
        "        exibir_resultado(analise, \"Análise do BDD\")\n",
        "\n",
        "        corrigir = input(\"Deseja corrigir o BDD conforme sugestões? (s/n): \")\n",
        "        while corrigir.lower() not in ('s', 'n'):\n",
        "            print(\"\\n⚠️Por favor, digite 's' para sim ou 'n' para não.⚠️\")\n",
        "            print(\"_____________________________________________________\")\n",
        "\n",
        "            corrigir = input(\"\\nDeseja corrigir o BDD conforme sugestões? (s/n): \")\n",
        "\n",
        "        if corrigir.lower() == 's':\n",
        "            corrigir_pt = input(\"\\nDeseja corrigir os erros de português no BDD? (s/n): \")\n",
        "            while corrigir_pt.lower() not in ('s', 'n'):\n",
        "                print(\"\\n⚠️Por favor, digite 's' para sim ou 'n' para não.⚠️\")\n",
        "                print(\"_____________________________________________________\")\n",
        "                corrigir_pt = input(\"Deseja corrigir os erros de português no BDD? (s/n): \")\n",
        "\n",
        "\n",
        "            bdd_corrigido = corrigir_bdd(conteudo_processado)\n",
        "\n",
        "\n",
        "            if corrigir_pt.lower() == 's':\n",
        "                bdd_corrigido_pt = corrigir_portugues(bdd_corrigido)\n",
        "                exibir_resultado(bdd_corrigido_pt, \"BDD Corrigido com Português Revisado\")\n",
        "            else:\n",
        "                exibir_resultado(bdd_corrigido, \"BDD Corrigido\")\n",
        "        else:\n",
        "            print(\"Finalizando o programa.\")\n",
        "    except ValueError as e:\n",
        "        print(e)\n",
        "    except requests.exceptions.RequestException as e:\n",
        "        print(f\"Erro ao baixar o arquivo: {e}\")\n",
        "\n",
        "if __name__ == \"__main__\":\n",
        "    main()"
      ],
      "metadata": {
        "id": "jiBSKi3Zdmff"
      },
      "execution_count": null,
      "outputs": []
    }
  ]
}